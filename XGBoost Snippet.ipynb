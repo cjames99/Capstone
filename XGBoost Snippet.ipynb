{
 "cells": [
  {
   "cell_type": "markdown",
   "id": "a38b802d",
   "metadata": {},
   "source": [
    "# 4: XGBoost (Variable Weight & Feature Engineering)"
   ]
  },
  {
   "cell_type": "code",
   "execution_count": 1,
   "id": "a5df69a5",
   "metadata": {},
   "outputs": [],
   "source": [
    "%matplotlib inline\n",
    "import matplotlib.pyplot as plt\n",
    "import seaborn as sb\n",
    "import pandas as pd\n",
    "import numpy as np\n",
    "\n",
    "from sklearn.linear_model import Ridge, Lasso, ElasticNet, RidgeCV, LassoCV, ElasticNetCV\n",
    "from sklearn.preprocessing import PolynomialFeatures, StandardScaler\n",
    "from sklearn.model_selection import train_test_split\n",
    "from sklearn.metrics import mean_squared_error, r2_score\n",
    "import xgboost as xgb\n",
    "from sklearn.model_selection import GridSearchCV "
   ]
  },
  {
   "cell_type": "code",
   "execution_count": 2,
   "id": "792acc97",
   "metadata": {},
   "outputs": [],
   "source": [
    "path_tor = ('Toronto_listings.csv') #Toronto Data\n",
    "path_van = ('Vancouver_listings.csv') #Vancouver Data\n",
    "path_mtl = ('Montreal_listings.csv') #Montreal Data\n",
    "path_bar = ('Barcelona_listings.csv') #Barcelona Data\n",
    "path_la = ('LA_listings.csv') #LA Data\n",
    "path_chi = ('Chicago_listings.csv') #Chicago Data\n",
    "path_sto = ('Stockholm_listings.csv') #Stockholm Data\n",
    "path_syd = ('Sydney_listings.csv') #Sydney Data\n",
    "df_tor = pd.read_csv(path_tor, header=0, index_col=0)\n",
    "df_van = pd.read_csv(path_van, header=0, index_col=0)\n",
    "df_mtl = pd.read_csv(path_mtl, header=0, index_col=0)\n",
    "df_bar = pd.read_csv(path_bar, header=0, index_col=0)\n",
    "df_la = pd.read_csv(path_la, header=0, index_col=0)\n",
    "df_chi = pd.read_csv(path_chi, header=0, index_col=0)\n",
    "df_sto = pd.read_csv(path_sto, header=0, index_col=0)\n",
    "df_syd = pd.read_csv(path_syd, header=0, index_col=0)"
   ]
  },
  {
   "cell_type": "code",
   "execution_count": 3,
   "id": "e63e5476",
   "metadata": {},
   "outputs": [
    {
     "name": "stdout",
     "output_type": "stream",
     "text": [
      "Toronto dataset dropped 848 rows.\n",
      "Montreal dataset dropped 742 rows.\n",
      "Vancouver dataset dropped 274 rows.\n",
      "Barcelona dataset dropped 809 rows.\n",
      "Chicago dataset dropped 457 rows.\n",
      "LA dataset dropped 2764 rows.\n",
      "Stockholm dataset dropped 134 rows.\n",
      "Sydney dataset dropped 804 rows.\n"
     ]
    }
   ],
   "source": [
    "# Remove where Toronto prices > 300\n",
    "condition = df_tor[df_tor['price'] > 300]\n",
    "rows_to_drop = condition.index\n",
    "print(\"Toronto dataset dropped {} rows.\".format(condition.shape[0]))\n",
    "df_tor = df_tor.drop(rows_to_drop, axis=0)\n",
    "# Remove where Montreal prices > 250\n",
    "condition = df_mtl[df_mtl['price'] > 250]\n",
    "rows_to_drop = condition.index\n",
    "print(\"Montreal dataset dropped {} rows.\".format(condition.shape[0]))\n",
    "df_mtl = df_mtl.drop(rows_to_drop, axis=0)\n",
    "# Remove where Vancouver prices > 350\n",
    "condition = df_van[df_van['price'] > 350]\n",
    "rows_to_drop = condition.index\n",
    "print(\"Vancouver dataset dropped {} rows.\".format(condition.shape[0]))\n",
    "df_van = df_van.drop(rows_to_drop, axis=0)\n",
    "# Remove where Barcelona prices > 320\n",
    "condition = df_bar[df_bar['price'] > 320]\n",
    "rows_to_drop = condition.index\n",
    "print(\"Barcelona dataset dropped {} rows.\".format(condition.shape[0]))\n",
    "df_bar = df_bar.drop(rows_to_drop, axis=0)\n",
    "# Remove where Chicago prices > 450\n",
    "condition = df_chi[df_chi['price'] > 450]\n",
    "rows_to_drop = condition.index\n",
    "print(\"Chicago dataset dropped {} rows.\".format(condition.shape[0]))\n",
    "df_chi = df_chi.drop(rows_to_drop, axis=0)\n",
    "# Remove where LA prices > 600\n",
    "condition = df_la[df_la['price'] > 600]\n",
    "rows_to_drop = condition.index\n",
    "print(\"LA dataset dropped {} rows.\".format(condition.shape[0]))\n",
    "df_la = df_la.drop(rows_to_drop, axis=0)\n",
    "# Remove where Stockholm prices > 400\n",
    "condition = df_sto[df_sto['price'] > 400]\n",
    "rows_to_drop = condition.index\n",
    "print(\"Stockholm dataset dropped {} rows.\".format(condition.shape[0]))\n",
    "df_sto = df_sto.drop(rows_to_drop, axis=0)\n",
    "# Remove where Sydney prices > 650\n",
    "condition = df_syd[df_syd['price'] > 650]\n",
    "rows_to_drop = condition.index\n",
    "print(\"Sydney dataset dropped {} rows.\".format(condition.shape[0]))\n",
    "df_syd = df_syd.drop(rows_to_drop, axis=0)"
   ]
  },
  {
   "cell_type": "code",
   "execution_count": 4,
   "id": "88434b2c",
   "metadata": {},
   "outputs": [
    {
     "name": "stdout",
     "output_type": "stream",
     "text": [
      "<class 'pandas.core.frame.DataFrame'>\n",
      "Int64Index: 5311 entries, 2384 to 53826192\n",
      "Data columns (total 37 columns):\n",
      " #   Column                       Non-Null Count  Dtype  \n",
      "---  ------                       --------------  -----  \n",
      " 0   description                  5311 non-null   object \n",
      " 1   host_id                      5311 non-null   int64  \n",
      " 2   host_location                5301 non-null   object \n",
      " 3   host_response_time           4022 non-null   object \n",
      " 4   host_response_rate           4022 non-null   object \n",
      " 5   host_acceptance_rate         4242 non-null   object \n",
      " 6   host_is_superhost            5310 non-null   object \n",
      " 7   host_total_listings_count    5310 non-null   float64\n",
      " 8   neighbourhood                5311 non-null   object \n",
      " 9   latitude                     5311 non-null   float64\n",
      " 10  longitude                    5311 non-null   float64\n",
      " 11  property_type                5311 non-null   object \n",
      " 12  room_type                    5311 non-null   object \n",
      " 13  accommodates                 5311 non-null   int64  \n",
      " 14  Accomodation Bin             5311 non-null   object \n",
      " 15  bathrooms_text               5300 non-null   object \n",
      " 16  private_shared               5311 non-null   object \n",
      " 17  bathrooms                    5300 non-null   float64\n",
      " 18  bedrooms                     4891 non-null   float64\n",
      " 19  beds                         5151 non-null   float64\n",
      " 20  amenities                    5311 non-null   object \n",
      " 21  price                        5311 non-null   float64\n",
      " 22  minimum_nights               5311 non-null   int64  \n",
      " 23  maximum_nights               5311 non-null   int64  \n",
      " 24  availability_30              5311 non-null   int64  \n",
      " 25  availability_60              5311 non-null   int64  \n",
      " 26  availability_90              5311 non-null   int64  \n",
      " 27  availability_365             5311 non-null   int64  \n",
      " 28  number_of_reviews            5311 non-null   int64  \n",
      " 29  review_scores_rating         4688 non-null   float64\n",
      " 30  review_scores_accuracy       4667 non-null   float64\n",
      " 31  review_scores_cleanliness    4667 non-null   float64\n",
      " 32  review_scores_checkin        4666 non-null   float64\n",
      " 33  review_scores_communication  4666 non-null   float64\n",
      " 34  review_scores_location       4666 non-null   float64\n",
      " 35  review_scores_value          4666 non-null   float64\n",
      " 36  instant_bookable             5311 non-null   object \n",
      "dtypes: float64(14), int64(9), object(14)\n",
      "memory usage: 1.5+ MB\n"
     ]
    }
   ],
   "source": [
    "df_chi.info()"
   ]
  },
  {
   "cell_type": "code",
   "execution_count": 5,
   "id": "6007d7cc",
   "metadata": {},
   "outputs": [],
   "source": [
    "df_chi = df_chi.drop(['description','host_id','property_type', 'host_location','host_is_superhost', 'host_response_time','host_response_rate','host_acceptance_rate','host_total_listings_count','amenities','Accomodation Bin','private_shared','bathrooms_text'], axis=1)\n"
   ]
  },
  {
   "cell_type": "code",
   "execution_count": 6,
   "id": "74d28c7b",
   "metadata": {},
   "outputs": [
    {
     "name": "stdout",
     "output_type": "stream",
     "text": [
      "<class 'pandas.core.frame.DataFrame'>\n",
      "Int64Index: 5311 entries, 2384 to 53826192\n",
      "Data columns (total 24 columns):\n",
      " #   Column                       Non-Null Count  Dtype  \n",
      "---  ------                       --------------  -----  \n",
      " 0   neighbourhood                5311 non-null   object \n",
      " 1   latitude                     5311 non-null   float64\n",
      " 2   longitude                    5311 non-null   float64\n",
      " 3   room_type                    5311 non-null   object \n",
      " 4   accommodates                 5311 non-null   int64  \n",
      " 5   bathrooms                    5311 non-null   float64\n",
      " 6   bedrooms                     5311 non-null   float64\n",
      " 7   beds                         5311 non-null   float64\n",
      " 8   price                        5311 non-null   float64\n",
      " 9   minimum_nights               5311 non-null   int64  \n",
      " 10  maximum_nights               5311 non-null   int64  \n",
      " 11  availability_30              5311 non-null   int64  \n",
      " 12  availability_60              5311 non-null   int64  \n",
      " 13  availability_90              5311 non-null   int64  \n",
      " 14  availability_365             5311 non-null   int64  \n",
      " 15  number_of_reviews            5311 non-null   int64  \n",
      " 16  review_scores_rating         5311 non-null   float64\n",
      " 17  review_scores_accuracy       5311 non-null   float64\n",
      " 18  review_scores_cleanliness    5311 non-null   float64\n",
      " 19  review_scores_checkin        5311 non-null   float64\n",
      " 20  review_scores_communication  5311 non-null   float64\n",
      " 21  review_scores_location       5311 non-null   float64\n",
      " 22  review_scores_value          5311 non-null   float64\n",
      " 23  instant_bookable             5311 non-null   object \n",
      "dtypes: float64(13), int64(8), object(3)\n",
      "memory usage: 1.0+ MB\n"
     ]
    }
   ],
   "source": [
    "df_chi['bathrooms'] = df_chi['bathrooms'].fillna(df_chi['bathrooms'].median())\n",
    "df_chi['bedrooms'] = df_chi['bedrooms'].fillna(df_chi['bedrooms'].median())\n",
    "df_chi['beds'] = df_chi['beds'].fillna(df_chi['beds'].mean())\n",
    "df_chi['review_scores_rating'] = df_chi['review_scores_rating'].fillna(df_chi['review_scores_rating'].median())\n",
    "df_chi['review_scores_accuracy'] =df_chi['review_scores_accuracy'].fillna(df_chi['review_scores_accuracy'].median())\n",
    "df_chi['review_scores_cleanliness'] = df_chi['review_scores_cleanliness'].fillna(df_chi['review_scores_cleanliness'].median())\n",
    "df_chi['review_scores_checkin'] = df_chi['review_scores_checkin'].fillna(df_chi['review_scores_checkin'].median())\n",
    "df_chi['review_scores_communication'] = df_chi['review_scores_communication'].fillna(df_chi['review_scores_communication'].median())\n",
    "df_chi['review_scores_location'] = df_chi['review_scores_location'].fillna(df_chi['review_scores_location'].median())\n",
    "df_chi['review_scores_value'] = df_chi['review_scores_value'].fillna(df_chi['review_scores_value'].median())\n",
    "\n",
    "df_chi.info()"
   ]
  },
  {
   "cell_type": "code",
   "execution_count": 7,
   "id": "6ea5d03c",
   "metadata": {},
   "outputs": [],
   "source": [
    "for col in ['neighbourhood', 'room_type']:\n",
    "    df_chi[col] = df_chi[col].astype('category')"
   ]
  },
  {
   "cell_type": "code",
   "execution_count": 8,
   "id": "576bf843",
   "metadata": {},
   "outputs": [],
   "source": [
    "target = df_chi[[\"price\"]] \n",
    "features = df_chi.drop([\"price\"], axis=1)\n",
    "num_feats = features.select_dtypes(include=['float64', 'int64', 'bool']).copy()\n",
    "\n",
    "cat_feats = features.select_dtypes(include=['category']).copy()\n",
    "cat_feats = pd.get_dummies(cat_feats)\n",
    "features_recoded = pd.concat([num_feats, cat_feats], axis=1)"
   ]
  },
  {
   "cell_type": "code",
   "execution_count": 9,
   "id": "d5b1f944",
   "metadata": {},
   "outputs": [],
   "source": [
    "X_train, X_test, y_train, y_test = train_test_split(features_recoded, target, test_size=0.2) #split data"
   ]
  },
  {
   "cell_type": "code",
   "execution_count": 10,
   "id": "c3915c6b",
   "metadata": {},
   "outputs": [],
   "source": [
    "sc = StandardScaler() #Scale data\n",
    "X_train = sc.fit_transform(X_train)\n",
    "X_test  = sc.transform(X_test)"
   ]
  },
  {
   "cell_type": "code",
   "execution_count": 11,
   "id": "10c8b60b",
   "metadata": {},
   "outputs": [],
   "source": [
    "booster = xgb.XGBRegressor()"
   ]
  },
  {
   "cell_type": "code",
   "execution_count": 12,
   "id": "58d72849",
   "metadata": {},
   "outputs": [
    {
     "name": "stdout",
     "output_type": "stream",
     "text": [
      "{'colsample_bytree': 1, 'gamma': 0.0, 'learning_rate': 0.05, 'max_depth': 6, 'n_estimators': 200}\n",
      "Wall time: 3min 37s\n"
     ]
    }
   ],
   "source": [
    "%%time \n",
    "#Depending on the dataset size, this might take 5-10mins to run\n",
    "from sklearn.model_selection import GridSearchCV \n",
    "\n",
    "param_grid = {'n_estimators': [100, 150, 200],\n",
    "              'learning_rate': [0.01, 0.05, 0.1], \n",
    "             'max_depth': [3, 4, 5, 6, 7],\n",
    "             'colsample_bytree': [0.6, 0.7, 1],\n",
    "              'gamma': [0.0, 0.1, 0.2]}\n",
    "\n",
    "\n",
    "booster_grid_search = GridSearchCV(booster, param_grid, cv=3, n_jobs=-1)\n",
    "\n",
    "\n",
    "booster_grid_search.fit(X_train, y_train)\n",
    "\n",
    "\n",
    "print(booster_grid_search.best_params_)"
   ]
  },
  {
   "cell_type": "code",
   "execution_count": 13,
   "id": "1fcbd8d5",
   "metadata": {},
   "outputs": [
    {
     "name": "stdout",
     "output_type": "stream",
     "text": [
      "Wall time: 665 ms\n"
     ]
    }
   ],
   "source": [
    "%%time\n",
    "booster = xgb.XGBRegressor(colsample_bytree=0.7, gamma=0.1, learning_rate=0.05, \n",
    "                           max_depth=7, n_estimators=200, random_state=4) #Use best parameters found in step above\n",
    "#Train\n",
    "booster.fit(X_train, y_train)\n",
    "\n",
    "#Predict\n",
    "y_pred_train = booster.predict(X_train)\n",
    "y_pred_test = booster.predict(X_test)"
   ]
  },
  {
   "cell_type": "code",
   "execution_count": 14,
   "id": "6df1e980",
   "metadata": {},
   "outputs": [
    {
     "name": "stdout",
     "output_type": "stream",
     "text": [
      "Wall time: 747 ms\n"
     ]
    }
   ],
   "source": [
    "%%time\n",
    "booster = xgb.XGBRegressor(colsample_bytree=0.7, gamma=0.1, learning_rate=0.05, \n",
    "                           max_depth=7, n_estimators=200, random_state=4) #Use best parameters found in step above\n",
    "#Train\n",
    "booster.fit(X_train, y_train)\n",
    "\n",
    "#Predict\n",
    "y_pred_train = booster.predict(X_train)\n",
    "y_pred_test = booster.predict(X_test)"
   ]
  },
  {
   "cell_type": "code",
   "execution_count": 15,
   "id": "0e837469",
   "metadata": {},
   "outputs": [
    {
     "data": {
      "image/png": "[encoded data removed]",
      "text/plain": [
       "<Figure size 432x288 with 1 Axes>"
      ]
     },
     "metadata": {
      "needs_background": "light"
     },
     "output_type": "display_data"
    }
   ],
   "source": [
    "# plot the important features\n",
    "feat_importances = pd.Series(booster.feature_importances_, index=features_recoded.columns)\n",
    "feat_importances.nlargest(10).sort_values().plot(kind='barh', color='green')\n",
    "plt.xlabel('Relative Feature Importance with XGBoost');"
   ]
  },
  {
   "cell_type": "code",
   "execution_count": 16,
   "id": "301e85c1",
   "metadata": {},
   "outputs": [
    {
     "data": {
      "text/plain": [
       "neighbourhood_South Shore        0.013724\n",
       "room_type_Shared room            0.025717\n",
       "neighbourhood_Loop               0.027745\n",
       "room_type_Hotel room             0.028402\n",
       "neighbourhood_Near North Side    0.034413\n",
       "accommodates                     0.037918\n",
       "room_type_Private room           0.050022\n",
       "bathrooms                        0.064760\n",
       "bedrooms                         0.145500\n",
       "room_type_Entire home/apt        0.170801\n",
       "dtype: float32"
      ]
     },
     "execution_count": 16,
     "metadata": {},
     "output_type": "execute_result"
    }
   ],
   "source": [
    "feat_importances.nlargest(10).sort_values()"
   ]
  },
  {
   "cell_type": "code",
   "execution_count": 17,
   "id": "e3b8598f",
   "metadata": {},
   "outputs": [
    {
     "name": "stdout",
     "output_type": "stream",
     "text": [
      "<class 'pandas.core.frame.DataFrame'>\n",
      "Int64Index: 5311 entries, 2384 to 53826192\n",
      "Data columns (total 7 columns):\n",
      " #   Column         Non-Null Count  Dtype   \n",
      "---  ------         --------------  -----   \n",
      " 0   neighbourhood  5311 non-null   category\n",
      " 1   room_type      5311 non-null   category\n",
      " 2   accommodates   5311 non-null   int64   \n",
      " 3   bathrooms      5311 non-null   float64 \n",
      " 4   bedrooms       5311 non-null   float64 \n",
      " 5   beds           5311 non-null   float64 \n",
      " 6   price          5311 non-null   float64 \n",
      "dtypes: category(2), float64(4), int64(1)\n",
      "memory usage: 262.2 KB\n"
     ]
    }
   ],
   "source": [
    "#Drop variables that aren't in the Top 10\n",
    "df_chi = df_chi.drop(['availability_30','availability_60','availability_90','review_scores_rating','latitude','longitude','availability_365','instant_bookable','minimum_nights','maximum_nights','number_of_reviews','review_scores_location','review_scores_communication','review_scores_checkin','review_scores_cleanliness','review_scores_accuracy','review_scores_value',], axis=1)\n",
    "df_chi.info()"
   ]
  },
  {
   "cell_type": "code",
   "execution_count": 18,
   "id": "3462971a",
   "metadata": {},
   "outputs": [],
   "source": [
    "for col in ['neighbourhood', 'room_type']:\n",
    "    df_chi[col] = df_chi[col].astype('category')"
   ]
  },
  {
   "cell_type": "code",
   "execution_count": 19,
   "id": "d18f14de",
   "metadata": {},
   "outputs": [
    {
     "name": "stdout",
     "output_type": "stream",
     "text": [
      "RMSE: 63.54\n",
      "MSE: 4037.61\n",
      "r2: 0.4846\n",
      "Adjusted r2: 0.4822\n"
     ]
    }
   ],
   "source": [
    "target = df_chi[[\"price\"]] \n",
    "features = df_chi.drop([\"price\"], axis=1)\n",
    "num_feats = features.select_dtypes(include=['float64', 'int64', 'bool']).copy()\n",
    "\n",
    "cat_feats = features.select_dtypes(include=['category']).copy()\n",
    "cat_feats = pd.get_dummies(cat_feats)\n",
    "features_recoded = pd.concat([num_feats, cat_feats], axis=1)\n",
    "X_train, X_test, y_train, y_test = train_test_split(features_recoded, target, test_size=0.2) #split data\n",
    "sc = StandardScaler() #Scale data\n",
    "X_train = sc.fit_transform(X_train)\n",
    "X_test  = sc.transform(X_test)\n",
    "booster = xgb.XGBRegressor()\n",
    "\n",
    "\n",
    "booster = xgb.XGBRegressor(colsample_bytree=0.7, gamma=0.1, learning_rate=0.05, \n",
    "                           max_depth=7, n_estimators=200, random_state=4)\n",
    "\n",
    "booster.fit(X_train, y_train)\n",
    "\n",
    "\n",
    "y_pred_train = booster.predict(X_train)\n",
    "y_pred_test = booster.predict(X_test)\n",
    "\n",
    "RMSE = np.sqrt(mean_squared_error(y_test, y_pred_test))\n",
    "print(f\"RMSE: {round(RMSE, 2)}\")\n",
    "MSE = mean_squared_error(y_test, y_pred_test)\n",
    "print(f\"MSE: {round(MSE, 2)}\")\n",
    "r2 = r2_score(y_test, y_pred_test)\n",
    "r2\n",
    "print(f\"r2: {round(r2, 4)}\")\n",
    "n=y_test.shape[0]\n",
    "p=5\n",
    "adj_r2 = 1-(1-r2)*(n-1)/(n-p-1)\n",
    "print(f\"Adjusted r2: {round(adj_r2, 4)}\")"
   ]
  },
  {
   "cell_type": "code",
   "execution_count": 20,
   "id": "a110ed39",
   "metadata": {},
   "outputs": [],
   "source": [
    "xg_train = xgb.DMatrix(data=X_train, label=y_train)\n",
    "params = {'colsample_bytree':0.6, 'gamma':0.0, 'learning_rate':0.05, 'max_depth':7}\n",
    "\n",
    "cv_results = xgb.cv(dtrain=xg_train, params=params, nfold=8,\n",
    "                    num_boost_round=300, early_stopping_rounds=10, \n",
    "                    metrics=\"rmse\", as_pandas=True)"
   ]
  },
  {
   "cell_type": "code",
   "execution_count": 21,
   "id": "ea904a2f",
   "metadata": {},
   "outputs": [
    {
     "data": {
      "text/html": [
       "<div>\n",
       "<style scoped>\n",
       "    .dataframe tbody tr th:only-of-type {\n",
       "        vertical-align: middle;\n",
       "    }\n",
       "\n",
       "    .dataframe tbody tr th {\n",
       "        vertical-align: top;\n",
       "    }\n",
       "\n",
       "    .dataframe thead th {\n",
       "        text-align: right;\n",
       "    }\n",
       "</style>\n",
       "<table border=\"1\" class=\"dataframe\">\n",
       "  <thead>\n",
       "    <tr style=\"text-align: right;\">\n",
       "      <th></th>\n",
       "      <th>train-rmse-mean</th>\n",
       "      <th>train-rmse-std</th>\n",
       "      <th>test-rmse-mean</th>\n",
       "      <th>test-rmse-std</th>\n",
       "    </tr>\n",
       "  </thead>\n",
       "  <tbody>\n",
       "    <tr>\n",
       "      <th>0</th>\n",
       "      <td>171.960619</td>\n",
       "      <td>0.673554</td>\n",
       "      <td>171.976150</td>\n",
       "      <td>4.826491</td>\n",
       "    </tr>\n",
       "    <tr>\n",
       "      <th>1</th>\n",
       "      <td>164.747038</td>\n",
       "      <td>0.664674</td>\n",
       "      <td>164.787969</td>\n",
       "      <td>4.774005</td>\n",
       "    </tr>\n",
       "    <tr>\n",
       "      <th>2</th>\n",
       "      <td>157.935616</td>\n",
       "      <td>0.666852</td>\n",
       "      <td>158.043741</td>\n",
       "      <td>4.707900</td>\n",
       "    </tr>\n",
       "    <tr>\n",
       "      <th>3</th>\n",
       "      <td>151.563211</td>\n",
       "      <td>0.741132</td>\n",
       "      <td>151.744616</td>\n",
       "      <td>4.598528</td>\n",
       "    </tr>\n",
       "    <tr>\n",
       "      <th>4</th>\n",
       "      <td>145.475513</td>\n",
       "      <td>0.716804</td>\n",
       "      <td>145.720381</td>\n",
       "      <td>4.575519</td>\n",
       "    </tr>\n",
       "  </tbody>\n",
       "</table>\n",
       "</div>"
      ],
      "text/plain": [
       "   train-rmse-mean  train-rmse-std  test-rmse-mean  test-rmse-std\n",
       "0       171.960619        0.673554      171.976150       4.826491\n",
       "1       164.747038        0.664674      164.787969       4.774005\n",
       "2       157.935616        0.666852      158.043741       4.707900\n",
       "3       151.563211        0.741132      151.744616       4.598528\n",
       "4       145.475513        0.716804      145.720381       4.575519"
      ]
     },
     "execution_count": 21,
     "metadata": {},
     "output_type": "execute_result"
    }
   ],
   "source": [
    "cv_results.head()"
   ]
  },
  {
   "cell_type": "code",
   "execution_count": 22,
   "id": "689a1266",
   "metadata": {},
   "outputs": [
    {
     "data": {
      "text/html": [
       "<div>\n",
       "<style scoped>\n",
       "    .dataframe tbody tr th:only-of-type {\n",
       "        vertical-align: middle;\n",
       "    }\n",
       "\n",
       "    .dataframe tbody tr th {\n",
       "        vertical-align: top;\n",
       "    }\n",
       "\n",
       "    .dataframe thead th {\n",
       "        text-align: right;\n",
       "    }\n",
       "</style>\n",
       "<table border=\"1\" class=\"dataframe\">\n",
       "  <thead>\n",
       "    <tr style=\"text-align: right;\">\n",
       "      <th></th>\n",
       "      <th>train-rmse-mean</th>\n",
       "      <th>train-rmse-std</th>\n",
       "      <th>test-rmse-mean</th>\n",
       "      <th>test-rmse-std</th>\n",
       "    </tr>\n",
       "  </thead>\n",
       "  <tbody>\n",
       "    <tr>\n",
       "      <th>127</th>\n",
       "      <td>55.325726</td>\n",
       "      <td>0.449434</td>\n",
       "      <td>62.369121</td>\n",
       "      <td>2.839619</td>\n",
       "    </tr>\n",
       "    <tr>\n",
       "      <th>128</th>\n",
       "      <td>55.311404</td>\n",
       "      <td>0.447594</td>\n",
       "      <td>62.369787</td>\n",
       "      <td>2.839469</td>\n",
       "    </tr>\n",
       "    <tr>\n",
       "      <th>129</th>\n",
       "      <td>55.299666</td>\n",
       "      <td>0.448002</td>\n",
       "      <td>62.368714</td>\n",
       "      <td>2.840342</td>\n",
       "    </tr>\n",
       "    <tr>\n",
       "      <th>130</th>\n",
       "      <td>55.285561</td>\n",
       "      <td>0.443995</td>\n",
       "      <td>62.367032</td>\n",
       "      <td>2.837993</td>\n",
       "    </tr>\n",
       "    <tr>\n",
       "      <th>131</th>\n",
       "      <td>55.269397</td>\n",
       "      <td>0.439517</td>\n",
       "      <td>62.363963</td>\n",
       "      <td>2.837087</td>\n",
       "    </tr>\n",
       "  </tbody>\n",
       "</table>\n",
       "</div>"
      ],
      "text/plain": [
       "     train-rmse-mean  train-rmse-std  test-rmse-mean  test-rmse-std\n",
       "127        55.325726        0.449434       62.369121       2.839619\n",
       "128        55.311404        0.447594       62.369787       2.839469\n",
       "129        55.299666        0.448002       62.368714       2.840342\n",
       "130        55.285561        0.443995       62.367032       2.837993\n",
       "131        55.269397        0.439517       62.363963       2.837087"
      ]
     },
     "execution_count": 22,
     "metadata": {},
     "output_type": "execute_result"
    }
   ],
   "source": [
    "cv_results.tail()"
   ]
  },
  {
   "cell_type": "code",
   "execution_count": 23,
   "id": "d756f39d",
   "metadata": {},
   "outputs": [
    {
     "data": {
      "image/png": "[encoded data removed]",
      "text/plain": [
       "<Figure size 1080x360 with 1 Axes>"
      ]
     },
     "metadata": {
      "needs_background": "light"
     },
     "output_type": "display_data"
    }
   ],
   "source": [
    "path_RMSE = ('TrainRMSE1.csv') \n",
    "df_trainRMSE = pd.read_csv(path_RMSE, header=0, index_col=0)\n",
    "ax = df_trainRMSE.plot.line(figsize=(15, 5))"
   ]
  },
  {
   "cell_type": "code",
   "execution_count": 24,
   "id": "22334273",
   "metadata": {},
   "outputs": [
    {
     "data": {
      "image/png": "[encoded data removed]",
      "text/plain": [
       "<Figure size 1080x360 with 1 Axes>"
      ]
     },
     "metadata": {
      "needs_background": "light"
     },
     "output_type": "display_data"
    }
   ],
   "source": [
    "path_RMSE2 = ('TestRMSE1.csv') \n",
    "df_trainRMSE = pd.read_csv(path_RMSE2, header=0, index_col=0)\n",
    "ax = df_trainRMSE.plot.line(figsize=(15, 5))"
   ]
  }
 ],
 "metadata": {
  "kernelspec": {
   "display_name": "Python 3 (ipykernel)",
   "language": "python",
   "name": "python3"
  },
  "language_info": {
   "codemirror_mode": {
    "name": "ipython",
    "version": 3
   },
   "file_extension": ".py",
   "mimetype": "text/x-python",
   "name": "python",
   "nbconvert_exporter": "python",
   "pygments_lexer": "ipython3",
   "version": "3.9.7"
  }
 },
 "nbformat": 4,
 "nbformat_minor": 5
}
